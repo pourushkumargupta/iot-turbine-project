{
 "cells": [
  {
   "cell_type": "code",
   "execution_count": 1,
   "id": "0c41f849-337e-4f01-8c36-5435ed7bb1a0",
   "metadata": {},
   "outputs": [
    {
     "name": "stdout",
     "output_type": "stream",
     "text": [
      "✅ wind_cleaned_logs table created successfully in TimescaleDB!\n"
     ]
    }
   ],
   "source": [
    "import psycopg2\n",
    "\n",
    "# ✅ Step 1: Connect to TimescaleDB\n",
    "conn = psycopg2.connect(\n",
    "    host=\"localhost\",\n",
    "    database=\"windturbinedb\",\n",
    "    user=\"postgres\",\n",
    "    password=\"nitd123\",\n",
    "    port=5432\n",
    ")\n",
    "\n",
    "cursor = conn.cursor()\n",
    "\n",
    "# ✅ Step 2: SQL Query to create cleaned table\n",
    "create_table_query = \"\"\"\n",
    "CREATE TABLE IF NOT EXISTS wind_cleaned_logs (\n",
    "    id SERIAL PRIMARY KEY,\n",
    "    date TIMESTAMPTZ,\n",
    "    wind_speed FLOAT,\n",
    "    power FLOAT,\n",
    "    nacelle_ambient_temp FLOAT,\n",
    "    generator_bearing_temp FLOAT,\n",
    "    gear_oil_temp FLOAT,\n",
    "    ambient_temp FLOAT,\n",
    "    rotor_speed FLOAT,\n",
    "    nacelle_temp FLOAT,\n",
    "    bearing_temp FLOAT,\n",
    "    generator_speed FLOAT,\n",
    "    yaw_angle FLOAT,\n",
    "    wind_direction FLOAT,\n",
    "    wheel_hub_temp FLOAT,\n",
    "    gear_box_inlet_temp FLOAT,\n",
    "    turbine_location VARCHAR(50),\n",
    "    failure_status VARCHAR(50)\n",
    ");\n",
    "\n",
    "\"\"\"\n",
    "\n",
    "cursor.execute(create_table_query)\n",
    "conn.commit()\n",
    "\n",
    "print(\"✅ wind_cleaned_logs table created successfully in TimescaleDB!\")\n",
    "\n",
    "cursor.close()\n",
    "conn.close()\n"
   ]
  },
  {
   "cell_type": "code",
   "execution_count": null,
   "id": "0592db0f-48ff-45e8-8d5d-59bc3363ba78",
   "metadata": {},
   "outputs": [],
   "source": []
  }
 ],
 "metadata": {
  "kernelspec": {
   "display_name": "Python 3 (ipykernel)",
   "language": "python",
   "name": "python3"
  },
  "language_info": {
   "codemirror_mode": {
    "name": "ipython",
    "version": 3
   },
   "file_extension": ".py",
   "mimetype": "text/x-python",
   "name": "python",
   "nbconvert_exporter": "python",
   "pygments_lexer": "ipython3",
   "version": "3.10.12"
  }
 },
 "nbformat": 4,
 "nbformat_minor": 5
}
